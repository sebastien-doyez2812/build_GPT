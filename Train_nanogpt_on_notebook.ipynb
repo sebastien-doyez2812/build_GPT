{
  "nbformat": 4,
  "nbformat_minor": 0,
  "metadata": {
    "colab": {
      "provenance": [],
      "gpuType": "V28"
    },
    "kernelspec": {
      "name": "python3",
      "display_name": "Python 3"
    },
    "language_info": {
      "name": "python"
    },
    "accelerator": "TPU"
  },
  "cells": [
    {
      "cell_type": "markdown",
      "source": [
        "Mount the drive:"
      ],
      "metadata": {
        "id": "hwecyuC_1ZOB"
      }
    },
    {
      "cell_type": "code",
      "execution_count": 1,
      "metadata": {
        "colab": {
          "base_uri": "https://localhost:8080/"
        },
        "id": "AO_5498l1K0e",
        "outputId": "1cc8e95b-92e4-4b0f-930a-d4d7a1abd25b"
      },
      "outputs": [
        {
          "output_type": "stream",
          "name": "stdout",
          "text": [
            "Drive already mounted at /content/drive; to attempt to forcibly remount, call drive.mount(\"/content/drive\", force_remount=True).\n"
          ]
        }
      ],
      "source": [
        "from google.colab import drive\n",
        "drive.mount('/content/drive')"
      ]
    },
    {
      "cell_type": "markdown",
      "source": [
        "##**Dependencies:**##"
      ],
      "metadata": {
        "id": "vSSOJN0D1wCJ"
      }
    },
    {
      "cell_type": "code",
      "source": [
        "import torch\n",
        "import torch.nn as nn\n",
        "from torch.nn import functional as F\n",
        "import numpy as np"
      ],
      "metadata": {
        "id": "_qPoVrFo1zft"
      },
      "execution_count": 2,
      "outputs": []
    },
    {
      "cell_type": "markdown",
      "source": [
        "##**Parameters:**##"
      ],
      "metadata": {
        "id": "SNvNb-6W1p9-"
      }
    },
    {
      "cell_type": "code",
      "source": [
        "torch.manual_seed(1337)\n",
        "DATASET_PATH = \"/content/drive/MyDrive/Colab Notebooks/build_a_GPT/wikisent2.txt\"\n",
        "PERCENTAGE_TRAINING = 0.9\n",
        "CONTEXT_LENGTH = 256\n",
        "BATCHSIZE = 4\n",
        "LEARNINGRATE = 1e-4\n",
        "EPOCHS = 200\n",
        "VAL_INTERVAL = 20\n",
        "N_EMBD = 32\n",
        "NB_LAYERS = 5\n",
        "NB_HEAD = 4\n",
        "DROPOUT = 0.3"
      ],
      "metadata": {
        "id": "f9-uVa2i1f8c"
      },
      "execution_count": 3,
      "outputs": []
    },
    {
      "cell_type": "markdown",
      "source": [
        "##**Dataset preparation:**##"
      ],
      "metadata": {
        "id": "eZbDeYfA1jSF"
      }
    },
    {
      "cell_type": "code",
      "source": [
        "\n",
        "\n",
        "# Set the GPU if available:\n",
        "device = \"cuda\" if torch.cuda.is_available() else \"cpu\"\n",
        "print(f\"[i] device used: {device}\")\n",
        "\n",
        "# Read the dataset:\n",
        "with open(DATASET_PATH, \"r\") as f:\n",
        "  text = f.read()\n",
        "\n",
        "# Get all the caracters available:\n",
        "chars = sorted(list(set(text)))\n",
        "vocab_size = len(chars)\n",
        "\n",
        "# 2 dictionnaries:\n",
        "#stoi maps caracters to integers: \"c\" : 1 for example\n",
        "# itos maps integers to caracters 1: \"c\"\n",
        "\n",
        "stoi = {ch:i for i,ch in enumerate(chars)}\n",
        "itos = {i:ch for i,ch in enumerate(chars)}\n",
        "\n",
        "# We can use tiktoken lib also, but keep it simple:\n",
        "def encode(s):\n",
        "  return [stoi[c] for c in s]\n",
        "\n",
        "def decode(l):\n",
        "  return \"\".join([itos[i] for i in l])\n",
        "\n",
        "########################################\n",
        "#         Dataset preparation          #\n",
        "########################################\n",
        "\n",
        "print(\"\\033[33m[i] Dataset Preparation started:\\033[0m\")\n",
        "# Encoding our dataset:\n",
        "data = torch.tensor(encode(text), dtype=torch.long)\n",
        "\n",
        "#Split the dataset:\n",
        "n = int(PERCENTAGE_TRAINING * len(data))\n",
        "train_data = data[:n]\n",
        "val_data = data[n:]\n",
        "\n",
        "# Input:\n",
        "x = train_data[:CONTEXT_LENGTH]\n",
        "#Expected output:\n",
        "y = train_data[1:CONTEXT_LENGTH+1]\n",
        "\n",
        "# Create the batchs:\n",
        "def get_batch(split):\n",
        "    data = train_data if split == \"train\" else val_data\n",
        "    # Starting position:\n",
        "    ix = torch.randint(len(data) - CONTEXT_LENGTH, (BATCHSIZE,))\n",
        "\n",
        "    x = torch.stack([data[i:i+CONTEXT_LENGTH] for i in ix])\n",
        "    y = torch.stack([data[i+1:i+CONTEXT_LENGTH+1] for i in ix])\n",
        "    return x, y\n",
        "\n",
        "xb, yb = get_batch(\"train\")\n",
        "print(\"\\033[32m[i] Data ready.\\033[0m\")\n"
      ],
      "metadata": {
        "colab": {
          "base_uri": "https://localhost:8080/"
        },
        "id": "UYlePnly1n2C",
        "outputId": "2cfbcbb7-7270-4076-e9c7-de338158220a"
      },
      "execution_count": null,
      "outputs": [
        {
          "output_type": "stream",
          "name": "stdout",
          "text": [
            "[i] device used: cpu\n"
          ]
        }
      ]
    },
    {
      "cell_type": "markdown",
      "source": [
        "##**Model:**##"
      ],
      "metadata": {
        "id": "SIsl7dXw15c0"
      }
    },
    {
      "cell_type": "code",
      "source": [
        "\n",
        "class Head(nn.Module):\n",
        "    def __init__(self, head_size):\n",
        "\n",
        "        super().__init__()\n",
        "        self.key = nn.Linear(N_EMBD, head_size, bias = False)\n",
        "        self.query = nn.Linear(N_EMBD, head_size, bias = False)\n",
        "        self.value = nn.Linear(N_EMBD, head_size, bias = False)\n",
        "        self.register_buffer('tril', torch.tril(torch.ones(CONTEXT_LENGTH, CONTEXT_LENGTH)))\n",
        "        self.dropout = nn.Dropout(DROPOUT)\n",
        "\n",
        "    def forward(self, x):\n",
        "        # This is self attention:\n",
        "        B, T, C = x.shape\n",
        "        k = self.key(x)\n",
        "        q = self.query(x)\n",
        "        v = self.value(x)\n",
        "\n",
        "        weights = q @ k.transpose(-2,-1) * (k.shape[-1]**-0.5) # For nomalisation\n",
        "        weights = weights.masked_fill(self.tril[:T, :T] == 0, float('-inf'))\n",
        "        weights = F.softmax(weights, dim= -1)\n",
        "        weights = self.dropout(weights)\n",
        "\n",
        "        out = weights @ v\n",
        "        return out\n",
        "\n",
        "# To have a better LLM, use multiples heads:\n",
        "class MultiHead(nn.Module):\n",
        "    def __init__(self, nb_head, head_size):\n",
        "        super().__init__()\n",
        "        # Just create multiples heads:\n",
        "        self.heads = nn.ModuleList([Head(head_size) for _ in range(nb_head)])\n",
        "        self.proj = nn.Linear(head_size * nb_head, N_EMBD)\n",
        "        self.dropout = nn.Dropout(DROPOUT)\n",
        "\n",
        "    def forward(self, x):\n",
        "        out = torch.cat([h(x) for h in self.heads], dim= -1)\n",
        "        out = self.dropout(self.proj(out))\n",
        "        return out\n",
        "\n",
        "class FeedForward(nn.Module):\n",
        "    def __init__(self, size):\n",
        "        super().__init__()\n",
        "        self.ff = nn.Sequential(\n",
        "          nn.Linear(size, 4 * size),\n",
        "          nn.ReLU(),\n",
        "          nn.Linear(4 * size, size),\n",
        "          nn.Dropout(DROPOUT)\n",
        "        )\n",
        "\n",
        "    def forward(self, x):\n",
        "      return self.ff(x)\n",
        "\n",
        "class Blocks(nn.Module):\n",
        "    def __init__(self, n_embed, n_head):\n",
        "        super().__init__()\n",
        "        head_size = n_embed // n_head\n",
        "        self.multihead_att = MultiHead(n_head, head_size)\n",
        "        self.ff = FeedForward(n_embed)\n",
        "        self.layerNorm1 = nn.LayerNorm(n_embed)\n",
        "        self.layerNorm2 = nn.LayerNorm(n_embed)\n",
        "\n",
        "\n",
        "    def forward(self, x):\n",
        "        # Change from Attention is all you need:\n",
        "        # LayerNorm are befoore multihead and feed forward!\n",
        "        # x + ... for skip connection\n",
        "        x = x + self.multihead_att(self.layerNorm1(x))\n",
        "        x = x + self.ff(self.layerNorm2(x))\n",
        "        return x\n",
        "\n",
        "\n",
        "class NanoGPT(nn.Module):\n",
        "  def __init__(self):\n",
        "    super().__init__()\n",
        "    self.token_embedding_table = nn.Embedding(vocab_size, N_EMBD)\n",
        "    self.pos_embedding_table = nn.Embedding(CONTEXT_LENGTH, N_EMBD)\n",
        "\n",
        "    self.blocks = nn.Sequential(*[Blocks(n_embed= N_EMBD, n_head= NB_HEAD) for _ in range (NB_LAYERS)])\n",
        "    self.layer_norm = nn.LayerNorm(N_EMBD)\n",
        "\n",
        "    self.lm_head = nn.Linear(N_EMBD, vocab_size)\n",
        "\n",
        "  def forward(self, idx, targets=None):\n",
        "    B, T= idx.shape\n",
        "    token_emb = self.token_embedding_table(idx) # shape is B, T, C, where C is the embedding\n",
        "    pos_embd = self.pos_embedding_table(torch.arange(T, device= device))\n",
        "    x = token_emb + pos_embd\n",
        "    x = self.blocks(x)\n",
        "    x = self.layer_norm(x)\n",
        "\n",
        "    logits = self.lm_head(x)\n",
        "\n",
        "    if targets is None:\n",
        "      loss = None\n",
        "    else:\n",
        "      B, T, C = logits.shape\n",
        "      # Doc Pytorch: cross_entropy needs data (minibatch,C)  = (B*T, C)\n",
        "      logits = logits.view(B*T, C)\n",
        "      targets = targets.view(B*T)\n",
        "\n",
        "      loss = F.cross_entropy(logits, targets)\n",
        "    return logits, loss\n",
        "\n",
        "  def generate(self, idx, max_new_tokens):\n",
        "    for _ in range(max_new_tokens):\n",
        "      # Crop because we only work with the last tokens from context_length:\n",
        "      idx_crop = idx[:, -CONTEXT_LENGTH:]\n",
        "      logits, loss = self(idx_crop)\n",
        "      logits = logits[:, -1, :]\n",
        "\n",
        "      proba = F.softmax(logits, dim=-1)\n",
        "      # Add creativity: choose with the probability with multinomial:\n",
        "      # If we have a tensor [0.9, 0.05, 0.7], we have great chance that multinomial choose 1 or 3, due to high probability\n",
        "      idx_next = torch.multinomial(proba, num_samples=1)\n",
        "      idx = torch.cat((idx, idx_next), dim=1)\n",
        "    return idx\n",
        "\n",
        "@torch.no_grad()\n",
        "def estimate_loss():\n",
        "    out = {}\n",
        "    # Put in eval, to desactivate the drop out, batchnorm...\n",
        "    model.eval()\n",
        "\n",
        "    for split in ['train', 'val']:\n",
        "        losses = torch.zeros(VAL_INTERVAL)\n",
        "        for k in range(VAL_INTERVAL):\n",
        "            X, Y = get_batch(split)\n",
        "            logits, loss = model(X, Y)\n",
        "            losses[k] = loss.item()\n",
        "        out[split] = losses.mean()\n",
        "    model.train()\n",
        "    return out\n"
      ],
      "metadata": {
        "id": "h3jn9n-Q1763"
      },
      "execution_count": null,
      "outputs": []
    },
    {
      "cell_type": "markdown",
      "source": [
        "##**Training:**##"
      ],
      "metadata": {
        "id": "7ch4nk-t2GDt"
      }
    },
    {
      "cell_type": "code",
      "source": [
        "model = NanoGPT()\n",
        "m = model.to(device) # load the model in GPU if possible\n",
        "\n",
        "optimizer = torch.optim.AdamW(model.parameters(), lr = LEARNINGRATE)\n",
        "print(\"\\033[<33>m<[i] Training started:>\\033[0m\")\n",
        "for iter in range(EPOCHS):\n",
        "    if iter % VAL_INTERVAL == 0 or iter == EPOCHS - 1: # Added == 0\n",
        "        loss = estimate_loss()\n",
        "        print(f\"Epoch {iter}/{EPOCHS}:\\n train loss: {loss['train']:.4f}, val loss: {loss['val']:.4f}\") # Used single quotes for dictionary keys\n",
        "    xb, yb = get_batch(\"train\")\n",
        "\n",
        "    logits, loss = model(xb, yb)\n",
        "    optimizer.zero_grad(set_to_none= True)\n",
        "\n",
        "    loss.backward()\n",
        "    optimizer.step()\n",
        "\n",
        "\n",
        "###################################################\n",
        "##                   TEST                        ##\n",
        "###################################################\n",
        "\n",
        "context = torch.zeros((1, 1), dtype=torch.long, device=device)\n",
        "print(decode(m.generate(context, max_new_tokens=500)[0].tolist()))"
      ],
      "metadata": {
        "id": "aeobA1be2I3p"
      },
      "execution_count": null,
      "outputs": []
    },
    {
      "cell_type": "markdown",
      "source": [
        "##**Save the model:**##"
      ],
      "metadata": {
        "id": "2mXIu-rw3QVU"
      }
    },
    {
      "cell_type": "code",
      "source": [
        "PATH_FULL_MODEL = \"/content/drive/MyDrive/Colab Notebooks/build_a_GPT/nanoGPT.pth\"\n",
        "\n",
        "torch.save(model, PATH_FULL_MODEL)\n",
        "\n",
        "print(f\"Modèle complet sauvegardé dans {PATH_FULL_MODEL}\")"
      ],
      "metadata": {
        "id": "yklAtkKQ3UQ_"
      },
      "execution_count": null,
      "outputs": []
    }
  ]
}